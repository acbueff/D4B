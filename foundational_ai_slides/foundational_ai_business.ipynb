{
    "cells": [
     {
      "cell_type": "markdown",
      "metadata": {},
      "source": [
       "# Foundational AI for Business Applications\n",
       "\n",
       "This educational notebook demonstrates key concepts from the Foundational AI course with practical business applications. Each section includes:\n",
       "1. Topic explanation\n",
       "2. Code demonstration\n",
       "3. Visual example\n",
       "4. Reflective questions\n",
       "\n",
       "## Course Overview\n",
       "\n",
       "We'll cover these fundamental AI concepts through business-relevant examples:\n",
       "1. Problem Formulation: How to translate business problems into AI terms\n",
       "2. Search Algorithms: Finding optimal solutions in complex business scenarios\n",
       "3. Local Search: Optimizing business resources and processes\n",
       "4. Adversarial Search: Strategic decision making in competitive markets"
      ]
     },
     {
      "cell_type": "code",
      "execution_count": null,
      "metadata": {},
      "outputs": [],
      "source": [
       "# Import required libraries\n",
       "import numpy as np\n",
       "import pandas as pd\n",
       "from sklearn.preprocessing import StandardScaler\n",
       "import matplotlib.pyplot as plt\n",
       "import seaborn as sns\n",
       "from collections import deque\n",
       "import heapq\n",
       "import random\n",
       "\n",
       "# Set up plotting\n",
       "plt.style.use('default')\n",
       "sns.set_theme(style=\"whitegrid\")\n",
       "plt.rcParams['figure.figsize'] = [10, 6]\n",
       "plt.rcParams['figure.dpi'] = 100"
      ]
     },
     {
      "cell_type": "markdown",
      "metadata": {},
      "source": [
       "## Topic 1: Problem Formulation in AI\n",
       "\n",
       "In AI, the first step is translating a business problem into formal terms:\n",
       "- **State Space**: All possible situations we might encounter\n",
       "- **Actions**: What we can do in each situation\n",
       "- **Transition Model**: How our actions change the situation\n",
       "- **Goal State**: What we're trying to achieve\n",
       "- **Cost Function**: How to measure the cost of actions\n",
       "\n",
       "### Business Example: Delivery Route Optimization\n",
       "\n",
       "We'll demonstrate this using a delivery routing problem where a company needs to:\n",
       "- Deliver to multiple store locations\n",
       "- Minimize total distance traveled\n",
       "- Track costs between locations\n",
       "\n",
       "This example shows how to:\n",
       "1. Define the problem space (store locations)\n",
       "2. Calculate costs (distances between stores)\n",
       "3. Visualize the problem for better understanding"
      ]
     },
     {
      "cell_type": "code",
      "execution_count": null,
      "metadata": {},
      "outputs": [],
      "source": [
       "class BusinessRoute:\n",
       "    \"\"\"\n",
       "    Demonstrates problem formulation using a business delivery routing problem.\n",
       "    This shows how to formulate a real business problem in AI terms.\n",
       "    \"\"\"\n",
       "    def __init__(self):\n",
       "        # Example business locations with (x, y) coordinates\n",
       "        self.locations = {\n",
       "            'Warehouse': (0, 0),\n",
       "            'Store1': (2, 3),\n",
       "            'Store2': (-1, 4),\n",
       "            'Store3': (3, -2),\n",
       "            'Store4': (-2, -3)\n",
       "        }\n",
       "        self.costs = self._calculate_costs()\n",
       "    \n",
       "    def _calculate_costs(self):\n",
       "        \"\"\"Calculate Euclidean distances between all locations\"\"\"\n",
       "        costs = {}\n",
       "        for loc1 in self.locations:\n",
       "            for loc2 in self.locations:\n",
       "                if loc1 != loc2:\n",
       "                    x1, y1 = self.locations[loc1]\n",
       "                    x2, y2 = self.locations[loc2]\n",
       "                    costs[(loc1, loc2)] = np.sqrt((x2-x1)**2 + (y2-y1)**2)\n",
       "        return costs\n",
       "    \n",
       "    def visualize_problem(self):\n",
       "        \"\"\"Visualize the delivery locations and connections\"\"\"\n",
       "        plt.figure(figsize=(10, 10))\n",
       "        # Plot locations\n",
       "        for loc, (x, y) in self.locations.items():\n",
       "            plt.plot(x, y, 'bo', markersize=15)\n",
       "            plt.text(x+0.1, y+0.1, loc, fontsize=12)\n",
       "        \n",
       "        # Plot connections with costs\n",
       "        for (loc1, loc2), cost in self.costs.items():\n",
       "            x1, y1 = self.locations[loc1]\n",
       "            x2, y2 = self.locations[loc2]\n",
       "            plt.plot([x1, x2], [y1, y2], 'k--', alpha=0.2)\n",
       "            mid_x = (x1 + x2) / 2\n",
       "            mid_y = (y1 + y2) / 2\n",
       "            plt.text(mid_x, mid_y, f'{cost:.1f}', alpha=0.5)\n",
       "        \n",
       "        plt.title('Delivery Network with Distances')\n",
       "        plt.grid(True)\n",
       "        plt.show()\n",
       "\n",
       "# Create and visualize the routing problem\n",
       "route_problem = BusinessRoute()\n",
       "route_problem.visualize_problem()"
      ]
     },
     {
      "cell_type": "markdown",
      "metadata": {},
      "source": [
       "### Reflection Questions - Problem Formulation\n",
       "\n",
       "1. How would you modify this formulation for a different business problem, such as resource allocation or inventory management?\n",
       "2. What additional constraints might real-world delivery problems have that aren't captured in this simple model?\n",
       "3. How could you adapt the cost calculation to include factors beyond distance, such as time of day or delivery priority?\n",
       "\n",
       "Take a moment to consider these questions before moving on to the next topic."
      ]
     },
     {
      "cell_type": "markdown",
      "metadata": {},
      "source": [
       "## Topic 2: Search Algorithms\n",
       "\n",
       "Search algorithms help find optimal solutions in a structured way:\n",
       "- **Breadth-First Search**: Explores all possibilities level by level\n",
       "- **Depth-First Search**: Explores one path fully before backtracking\n",
       "- **A* Search**: Uses heuristics to find optimal paths efficiently\n",
       "\n",
       "### Business Example: Warehouse Navigation\n",
       "\n",
       "We'll demonstrate using a warehouse robot that needs to:\n",
       "- Navigate through a warehouse layout\n",
       "- Avoid obstacles (stored items)\n",
       "- Find optimal paths to pick locations\n",
       "\n",
       "This example shows how to:\n",
       "1. Represent the warehouse as a grid\n",
       "2. Implement breadth-first search for pathfinding\n",
       "3. Visualize the search process and solution"
      ]
     },
     {
      "cell_type": "code",
      "execution_count": null,
      "metadata": {},
      "outputs": [],
      "source": [
       "class BusinessSearch:\n",
       "    \"\"\"[Previous BusinessSearch class code...]\"\"\"\n",
       "\n",
       "# Create and demonstrate the search problem\n",
       "search_problem = BusinessSearch()\n",
       "path = search_problem.breadth_first_search((0,0), (4,4))\n",
       "search_problem.visualize_search(path)"
      ]
     },
     {
      "cell_type": "markdown",
      "metadata": {},
      "source": [
       "### Reflection Questions - Search Algorithms\n",
       "\n",
       "1. How would the path change if we used a different search algorithm, such as depth-first search?\n",
       "2. What business metrics could we use to evaluate different pathfinding algorithms beyond just path length?\n",
       "3. How could this algorithm be adapted for multi-robot coordination in the warehouse?"
      ]
     },
     {
      "cell_type": "markdown",
      "metadata": {},
      "source": [
       "[Continue with similar sections for Local Search and Adversarial Search...]\n",
       "\n",
       "## Final Business Challenge\n",
       "\n",
       "Implement a warehouse optimization system that combines concepts from all topics:\n",
       "1. Problem Formulation: Define the warehouse space and constraints\n",
       "2. Search Algorithms: Find optimal paths for robots\n",
       "3. Local Search: Optimize resource allocation\n",
       "4. Adversarial Search: Handle multiple competing objectives\n",
       "\n",
       "Your task is to implement a solution that balances:\n",
       "- Efficient path finding\n",
       "- Resource utilization\n",
       "- Cost minimization\n",
       "- Real-world constraints\n",
       "\n",
       "Use the code cell below to implement your solution:"
      ]
     },
     {
      "cell_type": "code",
      "execution_count": null,
      "metadata": {},
      "outputs": [],
      "source": [
       "# Your solution here\n",
       "def optimize_warehouse_system():\n",
       "    pass"
      ]
     }
    ],
    "metadata": {
     "kernelspec": {
      "display_name": "Python 3",
      "language": "python",
      "name": "python3"
     },
     "language_info": {
      "codemirror_mode": {
       "name": "ipython",
       "version": 3
      },
      "file_extension": ".py",
      "mimetype": "text/x-python",
      "name": "python",
      "nbconvert_exporter": "python",
      "pygments_lexer": "ipython3",
      "version": "3.8.0"
     }
    },
    "nbformat": 4,
    "nbformat_minor": 4
   }