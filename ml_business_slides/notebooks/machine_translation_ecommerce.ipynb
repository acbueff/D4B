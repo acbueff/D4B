{
    "cells": [
     {
      "cell_type": "markdown",
      "metadata": {},
      "source": [
       "# Machine Translation for E-commerce\n",
       "\n",
       "## Business Context: eBay's Cross-Border Commerce\n",
       "\n",
       "eBay implemented Neural Machine Translation (NMT) to:\n",
       "- Enable sellers to reach international customers regardless of language\n",
       "- Automatically translate product listings across numerous languages\n",
       "- Improve search relevance across language barriers\n",
       "- Increase cross-border sales by making listings accessible to global buyers\n",
       "\n",
       "After implementing NMT, eBay reported a 10.9% increase in exports on translated listings, demonstrating the significant business impact of effective translation technology.\n",
       "\n",
       "In this notebook, we'll explore how machine translation works and implement a simple version for e-commerce product listings."
      ]
     },
     {
      "cell_type": "markdown",
      "metadata": {},
      "source": [
       "## 1. Setup and Installation\n",
       "\n",
       "First, let's install and import the necessary libraries. We'll use the Hugging Face `transformers` library, which provides access to state-of-the-art pre-trained translation models."
      ]
     },
     {
      "cell_type": "code",
      "execution_count": null,
      "metadata": {},
      "source": [
       "# Install required libraries (if not already installed)\n",
       "# !pip install transformers sentencepiece pandas matplotlib\n",
       "\n",
       "# Import libraries\n",
       "import pandas as pd\n",
       "import matplotlib.pyplot as plt\n",
       "import numpy as np\n",
       "from transformers import pipeline, MarianMTModel, MarianTokenizer\n",
       "\n",
       "print(\"Libraries imported successfully!\")"
      ]
     },
     {
      "cell_type": "markdown",
      "metadata": {},
      "source": [
       "## 2. Loading Translation Models\n",
       "\n",
       "We'll use the Helsinki-NLP Opus-MT models, which are specialized for machine translation between specific language pairs. For an e-commerce platform like eBay, multiple language pairs would be needed, but we'll focus on English-Spanish translation for this demonstration."
      ]
     },
     {
      "cell_type": "code",
      "execution_count": null,
      "metadata": {},
      "source": [
       "# Set up translation pipelines\n",
       "# English to Spanish\n",
       "en_to_es_translator = pipeline('translation_en_to_es', model=\"Helsinki-NLP/opus-mt-en-es\")\n",
       "\n",
       "# Spanish to English (for back-translation)\n",
       "es_to_en_translator = pipeline('translation_es_to_en', model=\"Helsinki-NLP/opus-mt-es-en\")\n",
       "\n",
       "print(\"Translation models loaded successfully!\")"
      ]
     },
     {
      "cell_type": "markdown",
      "metadata": {},
      "source": [
       "## 3. Sample E-commerce Product Listings\n",
       "\n",
       "Let's create a dataset of product listings similar to what you might find on an e-commerce platform like eBay."
      ]
     },
     {
      "cell_type": "code",
      "execution_count": null,
      "metadata": {},
      "source": [
       "# Create sample product listings\n",
       "product_listings = [\n",
       "    \"Red leather wallet - brand new with multiple card slots and coin purse\",\n",
       "    \"Wireless Bluetooth headphones with noise cancellation, 20-hour battery life\",\n",
       "    \"Vintage mid-century modern coffee table, solid oak, minor scratches\",\n",
       "    \"iPhone 12 Pro case, shockproof, black carbon fiber design\",\n",
       "    \"Women's running shoes, size 8, breathable mesh, pink/gray color\",\n",
       "    \"Professional DSLR camera with 18-55mm lens, includes carrying case and SD card\",\n",
       "    \"Antique silver pocket watch, working condition, light patina\",\n",
       "    \"Baby stroller with car seat attachment, folds flat for easy storage\",\n",
       "    \"Gaming laptop, 16GB RAM, NVIDIA RTX 3070, 1TB SSD, 15.6\" display\",\n",
       "    \"Handmade ceramic dinnerware set, 4 place settings, dishwasher safe\"\n",
       "]\n",
       "\n",
       "# Create a DataFrame to organize our data\n",
       "df = pd.DataFrame({'Original (English)': product_listings})\n",
       "\n",
       "# Display the product listings\n",
       "df"
      ]
     },
     {
      "cell_type": "markdown",
      "metadata": {},
      "source": [
       "## 4. Translating Product Listings\n",
       "\n",
       "Now, let's translate our product listings from English to Spanish, simulating how eBay would make listings available to Spanish-speaking customers."
      ]
     },
     {
      "cell_type": "code",
      "execution_count": null,
      "metadata": {},
      "source": [
       "# Translate each product listing to Spanish\n",
       "spanish_translations = []\n",
       "\n",
       "for listing in product_listings:\n",
       "    # Get the translation\n",
       "    translation = en_to_es_translator(listing)\n",
       "    # Extract the translated text from the result\n",
       "    translated_text = translation[0]['translation_text']\n",
       "    spanish_translations.append(translated_text)\n",
       "\n",
       "# Add translations to our DataFrame\n",
       "df['Spanish Translation'] = spanish_translations\n",
       "\n",
       "# Display the original listings and their translations\n",
       "df[['Original (English)', 'Spanish Translation']]"
      ]
     },
     {
      "cell_type": "markdown",
      "metadata": {},
      "source": [
       "## 5. Back-Translation: Evaluating Quality\n",
       "\n",
       "One way to evaluate translation quality is through \"back-translation\" - translating the Spanish text back to English and comparing it to the original. This helps identify potential meaning loss or errors in translation."
      ]
     },
     {
      "cell_type": "code",
      "execution_count": null,
      "metadata": {},
      "source": [
       "# Translate each Spanish translation back to English\n",
       "back_translations = []\n",
       "\n",
       "for spanish_text in spanish_translations:\n",
       "    # Get the back-translation\n",
       "    back_translation = es_to_en_translator(spanish_text)\n",
       "    # Extract the translated text from the result\n",
       "    back_translated_text = back_translation[0]['translation_text']\n",
       "    back_translations.append(back_translated_text)\n",
       "\n",
       "# Add back-translations to our DataFrame\n",
       "df['Back to English'] = back_translations\n",
       "\n",
       "# Display all three columns\n",
       "df"
      ]
     },
     {
      "cell_type": "markdown",
      "metadata": {},
      "source": [
       "## 6. Analyzing Translation Quality\n",
       "\n",
       "Let's analyze some specific translation challenges in e-commerce product listings:"
      ]
     },
     {
      "cell_type": "code",
      "execution_count": null,
      "metadata": {},
      "source": [
       "# Create a function to analyze the translation of specific terms\n",
       "def analyze_term_translation(term, context):\n",
       "    \"\"\"Analyze how a specific term is translated in context\"\"\"\n",
       "    # Translate the context containing the term\n",
       "    translation = en_to_es_translator(context)\n",
       "    translated_text = translation[0]['translation_text']\n",
       "    \n",
       "    print(f\"Term: '{term}'\")\n",
       "    print(f\"Context: '{context}'\")\n",
       "    print(f\"Translation: '{translated_text}'\")\n",
       "    print(\"---\")\n",
       "    \n",
       "    return translated_text\n",
       "\n",
       "# Test brand names and product-specific terminology\n",
       "print(\"ANALYSIS OF BRAND NAMES AND TECHNICAL TERMS:\\n\")\n",
       "\n",
       "# Brand names\n",
       "analyze_term_translation(\"Apple\", \"Apple iPhone 13 with 128GB storage\")\n",
       "analyze_term_translation(\"Apple\", \"Fresh apple pie made with organic fruit\")\n",
       "\n",
       "# Technical specifications\n",
       "analyze_term_translation(\"16GB RAM\", \"Laptop with 16GB RAM and fast processor\")\n",
       "analyze_term_translation(\"4K\", \"4K Ultra HD Smart TV with built-in streaming\")\n",
       "\n",
       "# Clothing sizes\n",
       "analyze_term_translation(\"Size 8\", \"Women's dress, Size 8, formal black design\")"
      ]
     },
     {
      "cell_type": "markdown",
      "metadata": {},
      "source": [
       "### Testing Special Cases: E-commerce-Specific Phrases\n",
       "\n",
       "Let's examine how well our translation model handles some common e-commerce phrases:"
      ]
     },
     {
      "cell_type": "code",
      "execution_count": null,
      "metadata": {},
      "source": [
       "# Define common e-commerce phrases\n",
       "ecommerce_phrases = [\n",
       "    \"Free shipping on orders over $50\",\n",
       "    \"Buy one, get one 50% off\",\n",
       "    \"Available for in-store pickup\",\n",
       "    \"30-day money-back guarantee\",\n",
       "    \"Limited quantity available\",\n",
       "    \"Final sale - no returns or exchanges\",\n",
       "    \"Pre-order now for delivery in June\"\n",
       "]\n",
       "\n",
       "# Translate each phrase and back-translate\n",
       "results = []\n",
       "\n",
       "for phrase in ecommerce_phrases:\n",
       "    # Translate to Spanish\n",
       "    spanish = en_to_es_translator(phrase)[0]['translation_text']\n",
       "    # Back-translate to English\n",
       "    back_to_english = es_to_en_translator(spanish)[0]['translation_text']\n",
       "    \n",
       "    results.append({\n",
       "        'Original': phrase,\n",
       "        'Spanish': spanish,\n",
       "        'Back to English': back_to_english\n",
       "    })\n",
       "\n",
       "# Display results\n",
       "pd.DataFrame(results)"
      ]
     },
     {
      "cell_type": "markdown",
      "metadata": {},
      "source": [
       "## 7. Translation Challenges in E-commerce\n",
       "\n",
       "Based on our experiments, let's identify specific challenges in e-commerce translation:"
      ]
     },
     {
      "cell_type": "markdown",
      "metadata": {},
      "source": [
       "### Common Translation Challenges\n",
       "\n",
       "1. **Brand Names and Product Names**\n",
       "   - Should remain untranslated (e.g., \"Apple iPhone\" should not become \"Manzana iPhone\")\n",
       "   - Context matters (Apple as a company vs. apple as a fruit)\n",
       "\n",
       "2. **Technical Specifications**\n",
       "   - Units and measurements may have different conventions in different countries\n",
       "   - Technical abbreviations (RAM, HD, SSD) should usually remain in original form\n",
       "\n",
       "3. **Sizes and Measurements**\n",
       "   - Clothing sizes vary by country (US Size 8 ≠ European Size 8)\n",
       "   - Units might need conversion (inches to centimeters, pounds to kilograms)\n",
       "\n",
       "4. **Promotional Language**\n",
       "   - Idiomatic expressions (\"Buy one, get one free\") need cultural adaptation\n",
       "   - Legal terms for warranties and returns have specific meanings\n",
       "\n",
       "5. **Product Categories**\n",
       "   - Category names might not have direct translations\n",
       "   - Search terms differ across languages and cultures\n",
       "\n",
       "### How eBay Addresses These Challenges\n",
       "\n",
       "eBay's custom Neural Machine Translation system likely includes:\n",
       "\n",
       "1. **Domain-Specific Training**: Models trained specifically on e-commerce data\n",
       "2. **Entity Recognition**: Special handling for brand names, product names, and measurements\n",
       "3. **Custom Dictionaries**: Specialized vocabulary for product categories and features\n",
       "4. **User Feedback Loop**: Learning from user corrections and preferences\n",
       "5. **Hybrid Approach**: Combining NMT with rule-based systems for special cases"
      ]
     },
     {
      "cell_type": "markdown",
      "metadata": {},
      "source": [
       "## 8. Building a Simple E-commerce Translation System\n",
       "\n",
       "Now let's implement a more sophisticated translation function that handles some of the special cases we've identified:"
      ]
     },
     {
      "cell_type": "code",
      "execution_count": null,
      "metadata": {},
      "source": [
       "def ecommerce_translate(text, source_lang='en', target_lang='es'):\n",
       "    \"\"\"Translate product listings with special handling for e-commerce content\"\"\"\n",
       "    \n",
       "    # 1. Pre-processing: Identify and protect special elements\n",
       "    \n",
       "    # Identify potential brand names (capitalized words)\n",
       "    import re\n",
       "    brand_pattern = r'\\b[A-Z][a-zA-Z]*\\b'\n",
       "    potential_brands = re.findall(brand_pattern, text)\n",
       "    \n",
       "    # Create a list of known brands that shouldn't be translated\n",
       "    known_brands = ['Apple', 'iPhone', 'Samsung', 'Sony', 'Nike', 'Adidas', 'NVIDIA', 'AMD']\n",
       "    \n",
       "    # Add potential brands to our protection list\n",
       "    do_not_translate = [brand for brand in potential_brands if brand in known_brands]\n",
       "    \n",
       "    # Protect technical specifications\n",
       "    tech_pattern = r'\\b\\d+(?:GB|TB|MP|K|MHz|GHz)\\b'\n",
       "    tech_specs = re.findall(tech_pattern, text)\n",
       "    do_not_translate.extend(tech_specs)\n",
       "    \n",
       "    # Replace protected terms with placeholders\n",
       "    protected_text = text\n",
       "    replacements = {}\n",
       "    \n",
       "    for i, term in enumerate(do_not_translate):\n",
       "        placeholder = f\"PROTECTED_{i}\"\n",
       "        replacements[placeholder] = term\n",
       "        protected_text = protected_text.replace(term, placeholder)\n",
       "    \n",
       "    # 2. Translate the modified text\n",
       "    if source_lang == 'en' and target_lang == 'es':\n",
       "        translation = en_to_es_translator(protected_text)[0]['translation_text']\n",
       "    elif source_lang == 'es' and target_lang == 'en':\n",
       "        translation = es_to_en_translator(protected_text)[0]['translation_text']\n",
       "    else:\n",
       "        return \"Unsupported language pair\"\n",
       "    \n",
       "    # 3. Post-processing: Restore protected terms\n",
       "    final_translation = translation\n",
       "    for placeholder, original in replacements.items():\n",
       "        final_translation = final_translation.replace(placeholder, original)\n",
       "    \n",
       "    return final_translation\n",
       "\n",
       "# Test our enhanced translation function\n",
       "enhanced_translations = [ecommerce_translate(listing) for listing in product_listings]\n",
       "\n",
       "# Compare standard and enhanced translations\n",
       "comparison_df = pd.DataFrame({\n",
       "    'Original': product_listings,\n",
       "    'Standard Translation': spanish_translations,\n",
       "    'Enhanced Translation': enhanced_translations\n",
       "})\n",
       "\n",
       "comparison_df"
      ]
     },
     {
      "cell_type": "markdown",
      "metadata": {},
      "source": [
       "## 9. Business Value and Implementation\n",
       "\n",
       "### Business Benefits of Machine Translation in E-commerce\n",
       "\n",
       "1. **Market Expansion**\n",
       "   - Reach customers in new geographical markets without requiring sellers to be multilingual\n",
       "   - eBay reported a 10.9% increase in exports after implementing NMT\n",
       "\n",
       "2. **Increased User Engagement**\n",
       "   - Customers prefer browsing in their native language\n",
       "   - Higher conversion rates when content is in the user's language\n",
       "\n",
       "3. **Improved Search Relevance**\n",
       "   - Translate search queries to match listings in other languages\n",
       "   - Index translated content for better searchability\n",
       "\n",
       "4. **Cost Efficiency**\n",
       "   - Automated translation is more cost-effective than manual translation\n",
       "   - Scales to millions of listings without linear cost increase\n",
       "\n",
       "5. **Competitive Advantage**\n",
       "   - Platforms with better translation gain advantage in global markets\n",
       "   - Creates network effects between international buyers and sellers\n",
       "\n",
       "### Implementation Considerations\n",
       "\n",
       "A full-scale e-commerce translation system would include:\n",
       "\n",
       "1. **Custom-trained Models**: Fine-tuned on e-commerce data with domain-specific vocabulary\n",
       "2. **Real-time Translation API**: Fast enough for dynamic content like search results\n",
       "3. **Translation Memory**: Store previous translations to maintain consistency\n",
       "4. **User Feedback Loop**: Allow users to suggest better translations\n",
       "5. **Quality Monitoring**: Regularly evaluate translation quality across languages\n",
       "6. **Language Detection**: Automatically identify the source language\n",
       "7. **Content Prioritization**: Focus highest quality translation on most-viewed listings"
      ]
     },
     {
      "cell_type": "markdown",
      "metadata": {},
      "source": [
       "## 10. Learning Challenge\n",
       "\n",
       "Now it's your turn to experiment with machine translation for e-commerce!\n",
       "\n",
       "### Challenges:\n",
       "\n",
       "1. Try translating these product descriptions and analyze the results:\n",
       "   - \"Wireless noise-cancelling headphones with 24-hour battery life\"\n",
       "   - \"Handmade artisanal coffee mug - dishwasher safe\"\n",
       "\n",
       "2. Identify translation challenges with these phrases:\n",
       "   - \"One size fits all\"\n",
       "   - \"Limited edition collectible\"\n",
       "   - \"Refurbished Apple MacBook Pro\"\n",
       "\n",
       "3. Consider how you would handle these e-commerce translation issues:\n",
       "   - How would you ensure brand names aren't translated inappropriately?\n",
       "   - How would you handle clothing sizes across different countries?\n",
       "   - How would you translate region-specific promotional terms?\n",
       "\n",
       "Use the cell below to experiment:"
      ]
     },
     {
      "cell_type": "code",
      "execution_count": null,
      "metadata": {},
      "source": [
       "# Your translation experiments here\n",
       "challenge_phrases = [\n",
       "    \"Wireless noise-cancelling headphones with 24-hour battery life\",\n",
       "    \"Handmade artisanal coffee mug - dishwasher safe\",\n",
       "    \"One size fits all\",\n",
       "    \"Limited edition collectible\",\n",
       "    \"Refurbished Apple MacBook Pro\"\n",
       "]\n",
       "\n",
       "# Translate and analyze\n",
       "for phrase in challenge_phrases:\n",
       "    print(f\"Original: {phrase}\")\n",
       "    \n",
       "    # Standard translation\n",
       "    standard = en_to_es_translator(phrase)[0]['translation_text']\n",
       "    print(f\"Standard translation: {standard}\")\n",
       "    \n",
       "    # Enhanced translation\n",
       "    enhanced = ecommerce_translate(phrase)\n",
       "    print(f\"Enhanced translation: {enhanced}\")\n",
       "    \n",
       "    # Back-translation\n",
       "    back = es_to_en_translator(standard)[0]['translation_text']\n",
       "    print(f\"Back to English: {back}\")\n",
       "    print(\"\\n---\\n\")"
      ]
     },
     {
      "cell_type": "markdown",
      "metadata": {},
      "source": [
       "## Conclusion\n",
       "\n",
       "In this notebook, we've explored machine translation for e-commerce, based on eBay's successful implementation. We've seen how neural machine translation can automatically convert product listings between languages, enabling global commerce across language barriers.\n",
       "\n",
       "Key takeaways include:\n",
       "\n",
       "1. Modern neural translation models provide high-quality translations with minimal setup\n",
       "2. E-commerce translation has specific challenges (brand names, technical terms, sizes)\n",
       "3. Custom processing can enhance generic translation for domain-specific needs\n",
       "4. Back-translation provides a simple way to evaluate translation quality\n",
       "5. The business impact of translation is significant, with eBay reporting a 10.9% increase in exports\n",
       "\n",
       "By implementing machine translation, e-commerce platforms can dramatically expand their reach, connecting buyers and sellers worldwide regardless of language barriers. This technology exemplifies how AI can remove friction from global commerce, creating economic opportunities and enhancing the customer experience."
      ]
     }
    ],
    "metadata": {
     "kernelspec": {
      "display_name": "Python 3",
      "language": "python",
      "name": "python3"
     },
     "language_info": {
      "codemirror_mode": {
       "name": "ipython",
       "version": 3
      },
      "file_extension": ".py",
      "mimetype": "text/x-python",
      "name": "python",
      "nbconvert_exporter": "python",
      "pygments_lexer": "ipython3",
      "version": "3.8.10"
     }
    },
    "nbformat": 4,
    "nbformat_minor": 4
   }