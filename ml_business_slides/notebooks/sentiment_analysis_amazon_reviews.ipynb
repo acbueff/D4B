{
    "cells": [
     {
      "cell_type": "markdown",
      "metadata": {},
      "source": [
       "# Sentiment Analysis for Product Reviews\n",
       "\n",
       "## Business Context: Amazon's Review Analysis\n",
       "\n",
       "Amazon processes millions of customer reviews daily to:\n",
       "- Identify products with quality or satisfaction issues\n",
       "- Highlight top-performing products for promotion\n",
       "- Track sentiment trends over time for product categories\n",
       "- Allow customers to filter by review sentiment\n",
       "- Provide personalized recommendations based on sentiment patterns\n",
       "\n",
       "In this notebook, we'll build a simple sentiment classifier similar to what Amazon might use as part of their review processing pipeline."
      ]
     },
     {
      "cell_type": "markdown",
      "metadata": {},
      "source": [
       "## 1. Setup and Data Loading\n",
       "\n",
       "First, let's import the necessary libraries and load our dataset of product reviews."
      ]
     },
     {
      "cell_type": "code",
      "execution_count": null,
      "metadata": {},
      "source": [
       "# Import required libraries\n",
       "import pandas as pd\n",
       "import numpy as np\n",
       "import matplotlib.pyplot as plt\n",
       "import seaborn as sns\n",
       "from sklearn.model_selection import train_test_split\n",
       "from sklearn.feature_extraction.text import TfidfVectorizer\n",
       "from sklearn.naive_bayes import MultinomialNB\n",
       "from sklearn.pipeline import Pipeline\n",
       "from sklearn.metrics import classification_report, confusion_matrix, accuracy_score\n",
       "\n",
       "# Set random seed for reproducibility\n",
       "np.random.seed(42)"
      ]
     },
     {
      "cell_type": "code",
      "execution_count": null,
      "metadata": {},
      "source": [
       "# Create a sample dataset of product reviews\n",
       "# In a real application, this would be loaded from a file or database\n",
       "data = {\n",
       "    'review_text': [\n",
       "        \"This product exceeded my expectations. The quality is amazing and it works perfectly.\",\n",
       "        \"Great value for money, highly recommend this to anyone looking for a reliable option.\",\n",
       "        \"Disappointed with the build quality. It broke after just two weeks of normal use.\",\n",
       "        \"The instructions were confusing and customer service was unhelpful when I called.\",\n",
       "        \"Decent product for the price, but nothing extraordinary. Does what it's supposed to do.\",\n",
       "        \"Absolutely love this! Best purchase I've made this year.\",\n",
       "        \"Shipping was quick but the product doesn't match the description at all.\",\n",
       "        \"Wish I could give zero stars. Complete waste of money and time.\",\n",
       "        \"Product is okay but the app that goes with it constantly crashes.\",\n",
       "        \"The design is beautiful and it's very user-friendly. Exactly what I needed.\",\n",
       "        \"Average performance. Not bad but not great either.\",\n",
       "        \"Item arrived on time and was as described in the listing.\",\n",
       "        \"This product changed my life! I use it every day and it saves me so much time.\",\n",
       "        \"Poor quality materials and it stopped working after a month.\",\n",
       "        \"Fantastic customer service and the product is excellent too.\",\n",
       "        \"Not worth the premium price. You're paying for the brand name only.\",\n",
       "        \"Simple to set up and works reliably. No complaints.\",\n",
       "        \"The battery life is terrible, needs charging every few hours.\",\n",
       "        \"Perfect size and weight, and the performance is outstanding.\",\n",
       "        \"Received a damaged item and return process was a nightmare.\"\n",
       "    ],\n",
       "    'rating': [5, 5, 2, 2, 3, 5, 2, 1, 3, 5, 3, 4, 5, 1, 5, 2, 4, 2, 5, 1]\n",
       "}\n",
       "\n",
       "# Create DataFrame\n",
       "df = pd.DataFrame(data)\n",
       "\n",
       "# Display the first few rows\n",
       "df.head()"
      ]
     },
     {
      "cell_type": "markdown",
      "metadata": {},
      "source": [
       "## 2. Data Exploration and Preparation\n",
       "\n",
       "Let's explore our dataset and prepare it for sentiment analysis. In a real business context, Amazon would have millions of reviews with star ratings."
      ]
     },
     {
      "cell_type": "code",
      "execution_count": null,
      "metadata": {},
      "source": [
       "# Check the distribution of ratings\n",
       "plt.figure(figsize=(8, 5))\n",
       "sns.countplot(x='rating', data=df)\n",
       "plt.title('Distribution of Review Ratings')\n",
       "plt.xlabel('Rating (1-5 stars)')\n",
       "plt.ylabel('Count')\n",
       "plt.show()\n",
       "\n",
       "# Display basic statistics\n",
       "print(f\"Total reviews: {len(df)}\")\n",
       "print(f\"Average rating: {df['rating'].mean():.2f}\")"
      ]
     },
     {
      "cell_type": "code",
      "execution_count": null,
      "metadata": {},
      "source": [
       "# Convert ratings to sentiment labels (binary classification)\n",
       "# 4-5 stars = Positive, 1-2 stars = Negative, 3 stars = Neutral\n",
       "df['sentiment'] = df['rating'].apply(lambda x: 'positive' if x >= 4 else ('negative' if x <= 2 else 'neutral'))\n",
       "\n",
       "# For simplicity in this demonstration, we'll focus on positive vs. negative\n",
       "# In a real application, you might want to include neutral or use the full 1-5 scale\n",
       "df_binary = df[df['sentiment'] != 'neutral']\n",
       "\n",
       "# Display the binary sentiment distribution\n",
       "plt.figure(figsize=(8, 5))\n",
       "sns.countplot(x='sentiment', data=df_binary)\n",
       "plt.title('Distribution of Binary Sentiment')\n",
       "plt.xlabel('Sentiment')\n",
       "plt.ylabel('Count')\n",
       "plt.show()"
      ]
     },
     {
      "cell_type": "markdown",
      "metadata": {},
      "source": [
       "## 3. Model Building: Sentiment Classifier\n",
       "\n",
       "Now we'll build a simple sentiment classifier using TF-IDF for feature extraction and a Naive Bayes classifier. This represents a basic version of what companies like Amazon might use as part of their review analysis systems."
      ]
     },
     {
      "cell_type": "code",
      "execution_count": null,
      "metadata": {},
      "source": [
       "# Split the data into training and testing sets\n",
       "X = df_binary['review_text']\n",
       "y = df_binary['sentiment']\n",
       "X_train, X_test, y_train, y_test = train_test_split(X, y, test_size=0.3, random_state=42)\n",
       "\n",
       "print(f\"Training set size: {len(X_train)}\")\n",
       "print(f\"Testing set size: {len(X_test)}\")"
      ]
     },
     {
      "cell_type": "code",
      "execution_count": null,
      "metadata": {},
      "source": [
       "# Create a pipeline that first transforms text to TF-IDF vectors and then applies Naive Bayes\n",
       "sentiment_pipeline = Pipeline([\n",
       "    ('tfidf', TfidfVectorizer(max_features=1000, stop_words='english')),\n",
       "    ('classifier', MultinomialNB())\n",
       "])\n",
       "\n",
       "# Train the model\n",
       "sentiment_pipeline.fit(X_train, y_train)"
      ]
     },
     {
      "cell_type": "markdown",
      "metadata": {},
      "source": [
       "## 4. Model Evaluation\n",
       "\n",
       "Let's evaluate our model to see how well it performs on the test set."
      ]
     },
     {
      "cell_type": "code",
      "execution_count": null,
      "metadata": {},
      "source": [
       "# Make predictions on the test set\n",
       "y_pred = sentiment_pipeline.predict(X_test)\n",
       "\n",
       "# Calculate accuracy\n",
       "accuracy = accuracy_score(y_test, y_pred)\n",
       "print(f\"Accuracy: {accuracy:.2f}\")\n",
       "\n",
       "# Display detailed classification report\n",
       "print(\"\\nClassification Report:\")\n",
       "print(classification_report(y_test, y_pred))\n",
       "\n",
       "# Create confusion matrix\n",
       "cm = confusion_matrix(y_test, y_pred)\n",
       "plt.figure(figsize=(8, 6))\n",
       "sns.heatmap(cm, annot=True, fmt='d', cmap='Blues', \n",
       "            xticklabels=['Negative', 'Positive'], \n",
       "            yticklabels=['Negative', 'Positive'])\n",
       "plt.title('Confusion Matrix')\n",
       "plt.ylabel('True Sentiment')\n",
       "plt.xlabel('Predicted Sentiment')\n",
       "plt.show()"
      ]
     },
     {
      "cell_type": "markdown",
      "metadata": {},
      "source": [
       "## 5. Business Application: Analyzing New Reviews\n",
       "\n",
       "Now let's see how our model would classify new, unseen product reviews. This is how Amazon might use sentiment analysis to automatically categorize incoming reviews."
      ]
     },
     {
      "cell_type": "code",
      "execution_count": null,
      "metadata": {},
      "source": [
       "# New sample reviews to classify\n",
       "new_reviews = [\n",
       "    \"The product works as described but shipping took longer than expected.\",\n",
       "    \"While the design is beautiful, the functionality is disappointing.\",\n",
       "    \"I've had this for six months now and it still works like new. Very happy with my purchase.\",\n",
       "    \"It's not terrible, but I wouldn't buy it again or recommend it to friends.\",\n",
       "    \"Great customer service helped me resolve an issue quickly.\"\n",
       "]\n",
       "\n",
       "# Predict sentiment for new reviews\n",
       "predictions = sentiment_pipeline.predict(new_reviews)\n",
       "\n",
       "# Get probability scores for each class\n",
       "prediction_proba = sentiment_pipeline.predict_proba(new_reviews)\n",
       "\n",
       "# Display results with confidence scores\n",
       "results = pd.DataFrame({\n",
       "    'Review': new_reviews,\n",
       "    'Predicted Sentiment': predictions,\n",
       "    'Confidence': np.max(prediction_proba, axis=1)\n",
       "})\n",
       "\n",
       "results"
      ]
     },
     {
      "cell_type": "markdown",
      "metadata": {},
      "source": [
       "## 6. Understanding Our Model\n",
       "\n",
       "Let's analyze which words have the strongest influence on sentiment classification. This helps business users understand what aspects of products drive positive or negative sentiment."
      ]
     },
     {
      "cell_type": "code",
      "execution_count": null,
      "metadata": {},
      "source": [
       "# Extract the feature names (words) from the TF-IDF vectorizer\n",
       "feature_names = sentiment_pipeline.named_steps['tfidf'].get_feature_names_out()\n",
       "\n",
       "# Get the coefficients from the Naive Bayes classifier\n",
       "# For MultinomialNB, log probabilities reflect word importance\n",
       "coefs = sentiment_pipeline.named_steps['classifier'].feature_log_prob_\n",
       "\n",
       "# Calculate the difference between positive and negative class log probabilities\n",
       "# This gives us a measure of how strongly each word indicates positive or negative sentiment\n",
       "coef_diff = coefs[1] - coefs[0]  # Assuming binary classification (positive=1, negative=0)\n",
       "\n",
       "# Get the top positive and negative words\n",
       "top_positive_idx = coef_diff.argsort()[-10:]  # Top 10 positive words\n",
       "top_negative_idx = coef_diff.argsort()[:10]   # Top 10 negative words\n",
       "\n",
       "# Display top positive words\n",
       "print(\"Top words indicating POSITIVE sentiment:\")\n",
       "for idx in reversed(top_positive_idx):\n",
       "    print(f\"  {feature_names[idx]}\")\n",
       "\n",
       "print(\"\\nTop words indicating NEGATIVE sentiment:\")\n",
       "for idx in top_negative_idx:\n",
       "    print(f\"  {feature_names[idx]}\")"
      ]
     },
     {
      "cell_type": "markdown",
      "metadata": {},
      "source": [
       "## 7. Business Value and Implementation\n",
       "\n",
       "### Business Benefits of Sentiment Analysis\n",
       "\n",
       "1. **Early Problem Detection:**\n",
       "   - Automatically flag negative reviews for immediate attention\n",
       "   - Identify emerging product issues before they become widespread\n",
       "\n",
       "2. **Customer Service Prioritization:**\n",
       "   - Focus support resources on customers with negative experiences\n",
       "   - Analyze sentiment trends to staff customer service appropriately\n",
       "\n",
       "3. **Product Development Insights:**\n",
       "   - Identify which product features generate positive sentiment\n",
       "   - Understand pain points for future product iterations\n",
       "\n",
       "4. **Marketing Opportunities:**\n",
       "   - Highlight products with consistently positive sentiment\n",
       "   - Extract positive testimonials automatically\n",
       "\n",
       "### Implementation Considerations\n",
       "\n",
       "While our simple model demonstrates the concept, a production-scale implementation would include:\n",
       "\n",
       "- More sophisticated models (BERT, RoBERTa) for better accuracy\n",
       "- Fine-tuning on domain-specific review data\n",
       "- Multi-class sentiment (1-5 stars) rather than binary classification\n",
       "- Aspect-based sentiment analysis to identify which specific product features receive positive/negative comments\n",
       "- Integration with business intelligence dashboards for real-time monitoring\n",
       "- Human review for edge cases where confidence is low"
      ]
     },
     {
      "cell_type": "markdown",
      "metadata": {},
      "source": [
       "## 8. Learning Challenge\n",
       "\n",
       "Now it's your turn to experiment with sentiment analysis!\n",
       "\n",
       "### Challenges:\n",
       "\n",
       "1. Try writing your own product review and see how the model classifies it\n",
       "2. Modify a review slightly to see if you can change its predicted sentiment\n",
       "3. Think about edge cases that might be difficult for our simple model:\n",
       "   - Reviews with both positive and negative aspects\n",
       "   - Sarcastic reviews\n",
       "   - Technical reviews with specialized terminology\n",
       "\n",
       "Use the cell below to experiment:"
      ]
     },
     {
      "cell_type": "code",
      "execution_count": null,
      "metadata": {},
      "source": [
       "# Add your own reviews to test\n",
       "your_reviews = [\n",
       "    # Add your test reviews here\n",
       "    \"Write your own review here to test the model\"\n",
       "]\n",
       "\n",
       "# Predict sentiment\n",
       "your_predictions = sentiment_pipeline.predict(your_reviews)\n",
       "your_confidence = sentiment_pipeline.predict_proba(your_reviews).max(axis=1)\n",
       "\n",
       "# Display results\n",
       "for review, prediction, confidence in zip(your_reviews, your_predictions, your_confidence):\n",
       "    print(f\"Review: {review}\")\n",
       "    print(f\"Predicted sentiment: {prediction} (confidence: {confidence:.2f})\\n\")"
      ]
     },
     {
      "cell_type": "markdown",
      "metadata": {},
      "source": [
       "## Conclusion\n",
       "\n",
       "In this notebook, we've built a simple sentiment analysis model that demonstrates how businesses like Amazon can automatically analyze customer reviews. Our approach uses text vectorization and a Naive Bayes classifier to determine whether a review expresses positive or negative sentiment.\n",
       "\n",
       "Remember that real-world implementations would be more sophisticated, but the fundamental process remains similar:\n",
       "1. Collect and preprocess text data\n",
       "2. Transform text into numerical features\n",
       "3. Train a classification model\n",
       "4. Deploy the model to analyze new reviews automatically\n",
       "5. Extract business insights from the results\n",
       "\n",
       "By implementing sentiment analysis, businesses can systematically track customer satisfaction, identify product issues, and respond proactively to customer needs—all at a scale that would be impossible with manual review."
      ]
     }
    ],
    "metadata": {
     "kernelspec": {
      "display_name": "Python 3",
      "language": "python",
      "name": "python3"
     },
     "language_info": {
      "codemirror_mode": {
       "name": "ipython",
       "version": 3
      },
      "file_extension": ".py",
      "mimetype": "text/x-python",
      "name": "python",
      "nbconvert_exporter": "python",
      "pygments_lexer": "ipython3",
      "version": "3.8.10"
     }
    },
    "nbformat": 4,
    "nbformat_minor": 4
   }